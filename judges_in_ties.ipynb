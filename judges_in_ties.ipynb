{
 "cells": [
  {
   "cell_type": "code",
   "execution_count": 59,
   "metadata": {},
   "outputs": [],
   "source": [
    "import random\n",
    "\n",
    "def repetitive_testing(\n",
    "    teams_qty: int, judges_qty: int, points_qty: int,\n",
    "    experiments_qty: int):\n",
    "    \n",
    "    ties_qty = 0\n",
    "    \n",
    "    for experiment in range(experiments_qty):\n",
    "        results = []\n",
    "        for r in range(0, teams_qty):\n",
    "            results.append([r,0])\n",
    "        #print('results: ',results)\n",
    "        for judge in range(judges_qty):\n",
    "            teams = random.sample(range(teams_qty), points_qty)\n",
    "            #print('teams: ',teams)\n",
    "            points = points_qty\n",
    "            for team in teams:\n",
    "                team_points = random.randint(1, points)\n",
    "                results[team][1] += team_points\n",
    "\n",
    "                points -= team_points\n",
    "                if points == 0:\n",
    "                    #print('results: ',results)\n",
    "                    break\n",
    "        \n",
    "        #print('results again: ',results)\n",
    "        results.sort(key=lambda x:x[1])\n",
    "        #print('sorted_results: ',results)\n",
    "        \n",
    "        if results[teams_qty - 1][1] == results[teams_qty - 2][1]:\n",
    "            ties_qty += 1\n",
    "            \n",
    "        #print('ties_qty: ',ties_qty)\n",
    "    \n",
    "    return ties_qty\n"
   ]
  },
  {
   "cell_type": "code",
   "execution_count": 63,
   "metadata": {},
   "outputs": [
    {
     "name": "stdout",
     "output_type": "stream",
     "text": [
      "points_qty:  1\n",
      "ties_pct:  69.11\n",
      "points_qty:  2\n",
      "ties_pct:  53.290000000000006\n",
      "points_qty:  3\n",
      "ties_pct:  39.15\n",
      "points_qty:  4\n",
      "ties_pct:  31.52\n",
      "points_qty:  5\n",
      "ties_pct:  26.169999999999998\n",
      "points_qty:  6\n",
      "ties_pct:  22.78\n"
     ]
    }
   ],
   "source": [
    "teams_qty = 17 #teams quantity\n",
    "judges_qty = 4 #jugdes quantity\n",
    "max_points = 6 #maximum number of points that judge can spread over teams\n",
    "experiments_qty = 10000 #number of experiments for each points quantity from 1 to max_points\n",
    "\n",
    "for points_qty in range(1, max_points + 1):\n",
    "    ties_qty = repetitive_testing(teams_qty, judges_qty, points_qty, experiments_qty)\n",
    "    print('points_qty: ', points_qty)\n",
    "    print('ties_pct: ', (ties_qty / experiments_qty) * 100)\n",
    "    "
   ]
  },
  {
   "cell_type": "code",
   "execution_count": null,
   "metadata": {},
   "outputs": [],
   "source": []
  }
 ],
 "metadata": {
  "kernelspec": {
   "display_name": "Python 3",
   "language": "python",
   "name": "python3"
  },
  "language_info": {
   "codemirror_mode": {
    "name": "ipython",
    "version": 3
   },
   "file_extension": ".py",
   "mimetype": "text/x-python",
   "name": "python",
   "nbconvert_exporter": "python",
   "pygments_lexer": "ipython3",
   "version": "3.8.5"
  }
 },
 "nbformat": 4,
 "nbformat_minor": 4
}
